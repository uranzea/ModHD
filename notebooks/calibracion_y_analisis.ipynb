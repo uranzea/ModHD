{
 "cells": [
  {
   "cell_type": "markdown",
   "id": "59db0852",
   "metadata": {},
   "source": [
    "# Calibración y análisis — Modelo de Tanques"
   ]
  },
  {
   "cell_type": "code",
   "execution_count": null,
   "id": "3e2222bd",
   "metadata": {},
   "outputs": [],
   "source": [
    "\n",
    "import pandas as pd\n",
    "import numpy as np\n",
    "from tank_model import TankModel, ModelConfig, nse, kge, bias_pct\n",
    "from tank_model.parameters import Parameters\n",
    "from tank_model.io import load_csv, subset_period, tag_hydrology\n",
    "from tank_model.et import ensure_pet\n",
    "\n",
    "# 1) Cargar datos\n",
    "df = load_csv('../data/example_forcing.csv')\n",
    "df.head()\n"
   ]
  },
  {
   "cell_type": "code",
   "execution_count": null,
   "id": "1c4f0840",
   "metadata": {},
   "outputs": [],
   "source": [
    "\n",
    "# 2) Asegurar PET con Cenicafé (si tienes Tmean_C y Rs_MJ_m2_d en tu CSV)\n",
    "# df = ensure_pet(df, method='cenicafe', a=0.0135, b=17.78)\n",
    "# Para el ejemplo ya existe PET_mm:\n",
    "df = ensure_pet(df, method='column')\n",
    "df[['P_mm','PET_mm']].plot(title='P y PET', figsize=(9,3))\n"
   ]
  },
  {
   "cell_type": "code",
   "execution_count": null,
   "id": "87cd19e2",
   "metadata": {},
   "outputs": [],
   "source": [
    "\n",
    "# 3) Configurar y correr\n",
    "cfg = ModelConfig(dt_hours=24.0, area_km2=5.0, route=True)\n",
    "p = Parameters()\n",
    "m = TankModel(p, cfg)\n",
    "sim = m.run(df)\n",
    "sim[['Qout_mm']].plot(title='Qout (mm/dt)', figsize=(9,3))\n"
   ]
  },
  {
   "cell_type": "code",
   "execution_count": null,
   "id": "408113b5",
   "metadata": {},
   "outputs": [],
   "source": [
    "\n",
    "# 4) Análisis seco/húmedo y métricas por régimen\n",
    "reg = tag_hydrology(df, col='P_mm', dry_q=0.25, wet_q=0.75)\n",
    "sim['regime'] = reg\n",
    "sim.groupby('regime')['Qout_mm'].describe()\n"
   ]
  },
  {
   "cell_type": "code",
   "execution_count": null,
   "id": "2ec44c2c",
   "metadata": {},
   "outputs": [],
   "source": [
    "\n",
    "# 5) NSE/KGE por subperíodos (ejemplo sintético con obs = sim + ruido)\n",
    "obs = sim['Qout_mm'] * (1 + np.random.normal(0, 0.1, size=len(sim)))\n",
    "print('NSE total:', nse(obs, sim['Qout_mm']))\n",
    "for r in ['dry','normal','wet']:\n",
    "    mask = sim['regime'] == r\n",
    "    print(r, 'NSE=', nse(obs[mask], sim.loc[mask,'Qout_mm']))\n"
   ]
  }
 ],
 "metadata": {},
 "nbformat": 4,
 "nbformat_minor": 5
}
