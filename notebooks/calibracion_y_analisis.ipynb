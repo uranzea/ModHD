{
 "cells": [
  {
   "cell_type": "markdown",
   "id": "59db0852",
   "metadata": {},
   "source": [
    "# Calibración y análisis — Modelo de Tanques"
   ]
  },
  {
   "cell_type": "markdown",
   "id": "a6a69331",
   "metadata": {},
   "source": [
    "## 1. Carga y preparación de datos"
   ]
  },
  {
   "cell_type": "code",
   "execution_count": null,
   "id": "3e2222bd",
   "metadata": {},
   "outputs": [],
   "source": [
    "\n",
    "import pandas as pd\n",
    "import numpy as np\n",
    "from tank_model import TankModel, ModelConfig, nse, kge, bias_pct\n",
    "from tank_model.parameters import Parameters\n",
    "from tank_model.io import load_csv, subset_period, tag_hydrology, ensure_pet_coverage\n",
    "from tank_model.et import ensure_pet\n",
    "import matplotlib.pyplot as plt\n",
    "\n",
    "# Cargar datos de prueba (1950-2017)\n",
    "df = load_csv('../data/Datos_pruba_2.csv')\n",
    "df.head()"
   ]
  },
  {
   "cell_type": "code",
   "execution_count": null,
   "id": "c728af8e",
   "metadata": {},
   "outputs": [],
   "source": [
    "# Seleccionar método de PET (opciones: 'column', 'cenicafe', 'hargreaves')\n",
    "pet_method = 'column'  # lectura de PET desde la tabla\n"
   ]
  },
  {
   "cell_type": "code",
   "execution_count": null,
   "id": "1c4f0840",
   "metadata": {},
   "outputs": [],
   "source": [
    "# Asegurar PET\n",
    "required = {\n",
    "    'column': ['PET_mm'],\n",
    "    'cenicafe': ['Tmean_C', 'Rs_MJ_m2_d'],\n",
    "    'hargreaves': ['Tmean_C', 'Tmax_C', 'Tmin_C', 'Ra_MJ_m2_d'],\n",
    "}\n",
    "if pet_method == 'cenicafe':\n",
    "    df_med = load_csv('../data/medellin_pet_inputs.csv')\n",
    "    df_med_pet = ensure_pet(df_med, method='cenicafe', a=0.0135, b=17.78)\n",
    "    df['PET_mm'] = df_med_pet['PET_mm'].reindex(df.index)\n",
    "else:\n",
    "    missing = [c for c in required.get(pet_method, []) if c not in df.columns]\n",
    "    if missing:\n",
    "        print(f'Se omite ensure_pet: faltan columnas {missing}')\n",
    "    else:\n",
    "        df = ensure_pet(df, method=pet_method)\n",
    "\n",
    "df[['P_mm','PET_mm']].plot(title='P y PET', figsize=(9,3))\n"
   ]
  },
  {
   "cell_type": "code",
   "metadata": {},
   "source": [
    "# Dividir serie en calibración y validación\n",
    "calib_frac = 0.7  # proporción de datos para calibración\n",
    "split_date = None  # e.g., '1980-12-31' para dividir por fecha\n",
    "\n",
    "if split_date:\n",
    "    df_calib = df.loc[:split_date]\n",
    "    df_valid = df.loc[split_date:]\n",
    "else:\n",
    "    split_idx = int(len(df) * calib_frac)\n",
    "    df_calib = df.iloc[:split_idx]\n",
    "    df_valid = df.iloc[split_idx:]\n",
    "# número de filas para calibración (útil más adelante)\n",
    "split_idx = len(df_calib)\n"
   ],
   "outputs": [],
   "execution_count": null
  },
  {
   "cell_type": "markdown",
   "id": "2f050b9a",
   "metadata": {},
   "source": [
    "## 2. Configuración del modelo y simulación inicial\n"
   ]
  },
  {
   "cell_type": "code",
   "execution_count": null,
   "id": "87cd19e2",
   "metadata": {},
   "outputs": [],
   "source": [
    "\n",
    "# Configurar y correr\n",
    "cfg = ModelConfig(dt_hours=24.0, area_km2=0.173, route=True)  # área de cuenca 0.173 km²\n",
    "p = Parameters()\n",
    "m = TankModel(p, cfg)\n",
    "sim = m.run(df)\n",
    "#sim[['Qout_mm']].plot(title='Qout (mm/dt)', figsize=(9,3))\n",
    "\n",
    "# Graficar el caudal simulado junto con la precipitación\n",
    "\n",
    "fig, ax1 = plt.subplots(figsize=(9,3))\n",
    "ax2 = ax1.twinx()\n",
    "# Caudal simulado en mm/dt: color rojo\n",
    "ax1.plot(df.index, sim['Qout_mm'], color='red', label='Caudal simulado')\n",
    "# Precipitación: barras azules\n",
    "ax2.bar(df.index, df['P_mm'], color='blue', alpha=0.3, label='Precipitación')\n",
    "ax1.set_ylabel('Caudal (mm/dt)', color='red')\n",
    "ax2.set_ylabel('Precipitación (mm)', color='blue')\n",
    "ax1.set_xlabel('Fecha')\n",
    "ax1.set_title('Caudal simulado y precipitación')\n",
    "ax1.tick_params(axis='y', labelcolor='red')\n",
    "ax2.tick_params(axis='y', labelcolor='blue')\n",
    "# Mostrar leyendas de ambos ejes\n",
    "ax1.legend(loc='upper left')\n",
    "ax2.legend(loc='upper right')\n",
    "plt.show()\n"
   ]
  },
  {
   "cell_type": "markdown",
   "id": "e48b689e",
   "metadata": {},
   "source": [
    "## 3. Calibración de parámetros\n",
    "A continuación se muestra cómo registrar una calibración en el archivo de log y consultar las últimas calibraciones registradas para una cuenca."
   ]
  },
  {
   "cell_type": "code",
   "execution_count": null,
   "id": "eb69e301",
   "metadata": {},
   "outputs": [],
   "source": [
    "# Registrar calibración en el log y listar calibraciones recientes\n",
    "from tank_model.calibration import random_search, list_recent_calibrations\n",
    "\n",
    "def make_model(p):\n",
    "    return TankModel(params=p, config=cfg)\n",
    "\n",
    "# Serie observada sintética basada en la simulación previa\n",
    "q_obs = sim['Q_m3s'].values * (1 + np.random.normal(0, 0.1, size=len(sim)))\n",
    "q_obs_calib = q_obs[:split_idx]\n",
    "q_obs_valid = q_obs[split_idx:]\n",
    "\n",
    "# Nombre de la cuenca para registrar la calibración\n",
    "catchment_name = 'ExampleCuenca'\n",
    "log_path = '../data/calibrations_example.csv'\n",
    "\n",
    "# Ejecutar búsqueda aleatoria y guardar en el log\n",
    "best_p, best_score = random_search(\n",
    "    make_model,\n",
    "    df_calib,\n",
    "    q_obs_calib,\n",
    "    n_iter=20,\n",
    "    seed=123,\n",
    "    catchment_name=catchment_name,\n",
    "    log_path=log_path,\n",
    ")\n",
    "print(f'Mejor NSE registrado: {best_score:.3f}')\n",
    "\n",
    "# Evaluar con la serie de validación\n",
    "model_val = make_model(best_p)\n",
    "sim_val = model_val.run(df_valid)\n",
    "print('NSE en validación:', nse(q_obs_valid, sim_val['Q_m3s'].values))\n",
    "\n",
    "# Listar las 5 últimas calibraciones para esta cuenca\n",
    "df_recent = pd.DataFrame(list_recent_calibrations(catchment_name, n=5, log_path=log_path))\n",
    "print('Últimas calibraciones registradas:')\n",
    "df_recent\n"
   ]
  },
  {
   "cell_type": "markdown",
   "id": "5daeead0",
   "metadata": {},
   "source": [
    "## 4. Simulación con calibración guardada\n",
    "Aplicar una calibración guardada a un conjunto de forzantes distinto."
   ]
  },
  {
   "cell_type": "code",
   "execution_count": null,
   "id": "69d1f213",
   "metadata": {},
   "outputs": [],
   "source": [
    "# Aplicar la calibración guardada a nuevos forzantes\n",
    "df_new = load_csv('../data/new_forcing.csv')\n",
    "from tank_model.calibration import run_with_saved_calibration\n",
    "\n",
    "# Asegurar PET en df_new\n",
    "df_new = ensure_pet_coverage(df_new, df['PET_mm'])\n",
    "\n",
    "# Ejecutar el modelo con la última calibración registrada (ID por defecto)\n",
    "sim_new = run_with_saved_calibration(make_model, df_new, catchment_name=catchment_name, log_path=log_path)\n",
    "\n",
    "sim_new[['Qout_mm']].plot(title='Caudal simulado con calibración guardada en nuevos forzantes', figsize=(9,3))\n"
   ]
  },
  {
   "cell_type": "markdown",
   "id": "0bc706b2",
   "metadata": {},
   "source": [
    "## 5. Análisis\n"
   ]
  },
  {
   "cell_type": "code",
   "execution_count": null,
   "id": "408113b5",
   "metadata": {},
   "outputs": [],
   "source": [
    "\n",
    "# Análisis seco/húmedo y métricas por régimen\n",
    "reg = tag_hydrology(df, col='P_mm', dry_q=0.25, wet_q=0.75)\n",
    "sim['regime'] = reg\n",
    "sim.groupby('regime')['Qout_mm'].describe()\n"
   ]
  },
  {
   "cell_type": "code",
   "execution_count": null,
   "id": "2ec44c2c",
   "metadata": {},
   "outputs": [],
   "source": [
    "\n",
    "# NSE/KGE por subperíodos (ejemplo sintético con obs = sim + ruido)\n",
    "obs = sim['Qout_mm'] * (1 + np.random.normal(0, 0.1, size=len(sim)))\n",
    "print('NSE total:', nse(obs, sim['Qout_mm']))\n",
    "for r in ['dry','normal','wet']:\n",
    "    mask = sim['regime'] == r\n",
    "    print(r, 'NSE=', nse(obs[mask], sim.loc[mask,'Qout_mm']))\n"
   ]
  },
  {
   "cell_type": "markdown",
   "id": "dafcfad6",
   "metadata": {},
   "source": [
    "## 6. Comparación de caudales"
   ]
  },
  {
   "cell_type": "code",
   "execution_count": null,
   "id": "110a9aee",
   "metadata": {},
   "outputs": [],
   "source": [
    "\n",
    "# Comparación caudal simulado vs observado\n",
    "df_obs = load_csv('../data/example_discharge.csv')\n",
    "# Asegurar que la columna se llame 'Qobs_m3s'\n",
    "if 'Qobs_m3s' not in df_obs.columns:\n",
    "    raise ValueError('La columna Qobs_m3s no se encuentra en example_discharge.csv')\n",
    "# Unir las series por fecha y graficar\n",
    "comp = sim[['Q_m3s']].join(df_obs['Qobs_m3s'].rename('Qobs_m3s'), how='inner')\n",
    "# Extraer precipitación en las mismas fechas\n",
    "df_precip = df.loc[comp.index, ['P_mm']]\n",
    "\n",
    "fig, ax1 = plt.subplots(figsize=(9,3))\n",
    "ax2 = ax1.twinx()\n",
    "ax1.plot(comp.index, comp['Q_m3s'], color='red', label='Simulado')\n",
    "ax1.plot(comp.index, comp['Qobs_m3s'], color='black', label='Observado')\n",
    "# Precipitación en el eje secundario (convertir a mm si es necesario)\n",
    "ax2.bar(df_precip.index, df_precip['P_mm'], color='blue', alpha=0.3, label='Precipitación')\n",
    "ax1.set_xlabel('Fecha')\n",
    "ax1.set_ylabel('Caudal (m³/s)')\n",
    "ax2.set_ylabel('Precipitación (mm)')\n",
    "ax1.set_title('Caudales simulado y observado con precipitación')\n",
    "ax1.legend(loc='upper left')\n",
    "ax2.legend(loc='upper right')\n",
    "plt.show()"
   ]
  },
  {
   "cell_type": "markdown",
   "id": "440f51a9",
   "metadata": {},
   "source": [
    "### Curvas de duración de caudales"
   ]
  },
  {
   "cell_type": "code",
   "execution_count": null,
   "id": "194a63c1",
   "metadata": {},
   "outputs": [],
   "source": [
    "\n",
    "# Curvas de duración de caudales (FDC) comparando simulación y observación\n",
    "\n",
    "# Asegurarse de que existe el DataFrame 'comp'\n",
    "if 'comp' not in globals():\n",
    "    df_obs = load_csv('../data/example_discharge.csv')\n",
    "    comp = sim[['Q_m3s']].join(df_obs['Qobs_m3s'].rename('Qobs_m3s'), how='inner')\n",
    "\n",
    "# Preparar datos de FDC\n",
    "flows_sim = comp['Q_m3s'].dropna().values\n",
    "sorted_sim = np.sort(flows_sim)[::-1]\n",
    "exceedance_sim = np.arange(1, len(sorted_sim)+1) / (len(sorted_sim)+1)\n",
    "\n",
    "flows_obs = comp['Qobs_m3s'].dropna().values\n",
    "sorted_obs = np.sort(flows_obs)[::-1]\n",
    "exceedance_obs = np.arange(1, len(sorted_obs)+1) / (len(sorted_obs)+1)\n",
    "\n",
    "plt.figure(figsize=(9,4))\n",
    "plt.plot(exceedance_sim * 100, sorted_sim, color='red', label='Simulación')\n",
    "plt.plot(exceedance_obs * 100, sorted_obs, color='black', label='Observado')\n",
    "plt.xlabel('Porcentaje de excedencia (%)')\n",
    "plt.ylabel('Caudal (m³/s)')\n",
    "plt.title('Curvas de duración de caudales: Simulación vs Observado')\n",
    "plt.legend()\n",
    "plt.grid(True)\n",
    "plt.show()"
   ]
  }
 ],
 "metadata": {
  "kernelspec": {
   "display_name": "tank_model",
   "language": "python",
   "name": "python3"
  },
  "language_info": {
   "codemirror_mode": {
    "name": "ipython",
    "version": 3
   },
   "file_extension": ".py",
   "mimetype": "text/x-python",
   "name": "python",
   "nbconvert_exporter": "python",
   "pygments_lexer": "ipython3",
   "version": "3.10.18"
  }
 },
 "nbformat": 4,
 "nbformat_minor": 5
}